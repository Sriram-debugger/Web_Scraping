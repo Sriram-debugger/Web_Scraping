{
 "cells": [
  {
   "cell_type": "markdown",
   "id": "6161579c-cee1-4658-99ec-bff133829c21",
   "metadata": {},
   "source": [
    "Import Libraries"
   ]
  },
  {
   "cell_type": "code",
   "execution_count": 1,
   "id": "41d20de1-23fc-48d4-8ede-4d14bef92c4b",
   "metadata": {},
   "outputs": [],
   "source": [
    "import pandas as pd\n",
    "from urllib.parse import urlparse\n",
    "import numpy as np\n",
    "from requests_html import HTMLSession"
   ]
  },
  {
   "cell_type": "markdown",
   "id": "0fc08b90-3c26-4382-a87f-99c7bf0b29ca",
   "metadata": {},
   "source": [
    "In this step, the necessary Python libraries are imported. These include pandas for data manipulation, urllib for working with URLs, numpy for numerical operations, and requests_html for web scraping."
   ]
  },
  {
   "cell_type": "markdown",
   "id": "2433b38d-2a84-43a2-8682-9743af5d4765",
   "metadata": {},
   "source": [
    "Define the get_and_parse Function"
   ]
  },
  {
   "cell_type": "code",
   "execution_count": 2,
   "id": "fefc94e3-2f7e-4006-8c60-510911af2742",
   "metadata": {},
   "outputs": [],
   "source": [
    "def get_and_parse(url):\n",
    "  response = requests.get(url)\n",
    "  soup = BeautifulSoup(response.content, 'html.parser')\n",
    "  for element in soup(['script', 'style', 'comment']):\n",
    "      element.extract()\n",
    "  text = soup.get_text(separator=' ')\n",
    "  return text"
   ]
  },
  {
   "cell_type": "markdown",
   "id": "8b99ffb6-6afb-41e6-a747-9996086cd65a",
   "metadata": {},
   "source": [
    "This function takes a URL as input, sends a request to the website, and extracts the visible text content from the HTML using BeautifulSoup. Unwanted elements like scripts and styles are removed."
   ]
  },
  {
   "cell_type": "markdown",
   "id": "04e4ac89-9fa5-4471-981a-148c41f71490",
   "metadata": {},
   "source": [
    "Define the parse_elements Function"
   ]
  },
  {
   "cell_type": "code",
   "execution_count": 3,
   "id": "1d47e95e-e850-440c-90f9-30625f3ab5f1",
   "metadata": {},
   "outputs": [],
   "source": [
    "def parse_elements(url, element):\n",
    "    session = HTMLSession()\n",
    "    r = session.get(url)\n",
    "    elements = r.html.find(element)\n",
    "    return elements"
   ]
  },
  {
   "cell_type": "markdown",
   "id": "1e4928ab-3520-445c-bc64-14aa10e18ccd",
   "metadata": {},
   "source": [
    "This function uses the requests_html library to get the HTML content of a webpage and extracts specific HTML elements based on the provided tag (element)."
   ]
  },
  {
   "cell_type": "markdown",
   "id": "536c48d1-fb3f-4940-9361-e42ec1dd3efd",
   "metadata": {},
   "source": [
    "Define the sentiment_detection Function"
   ]
  },
  {
   "cell_type": "code",
   "execution_count": 4,
   "id": "4d8eefd1-9398-47ad-a5ae-f7c6bc88a29c",
   "metadata": {},
   "outputs": [],
   "source": [
    "def sentiment_detection(sentence):\n",
    "    positive_words = ('powerful', 'changing', 'potential', 'efficient', 'good', 'well', 'advances', 'engaging', 'ethical', 'potential', 'good')\n",
    "    negative_words = ('ambiguous', 'limitations', 'concerns', 'fool', 'undermined', 'fail', 'biased', 'discrimination', 'spread', 'polarization')\n",
    "\n",
    "    positive = any(sentence.count(i) > 0 for i in positive_words)\n",
    "    negative = any(sentence.count(i) > 0 for i in negative_words)\n",
    "\n",
    "    if positive == negative == False:\n",
    "        return \"neutral\"\n",
    "    elif positive != negative:\n",
    "        return \"positive\" if positive else \"negative\"\n",
    "    else:\n",
    "        return \"mixed\""
   ]
  },
  {
   "cell_type": "markdown",
   "id": "20a39f9a-6a34-4fb6-831e-57ecd92ad901",
   "metadata": {},
   "source": [
    "This function analyzes the sentiment of a given sentence based on predefined positive and negative words, returning either \"positive,\" \"negative,\" or \"neutral.\""
   ]
  },
  {
   "cell_type": "markdown",
   "id": "9f0ea104-0143-459f-b9f8-23306caa500f",
   "metadata": {},
   "source": [
    "Define the topic_detection Function"
   ]
  },
  {
   "cell_type": "code",
   "execution_count": 5,
   "id": "f996bc66-bda2-4509-a147-9bb130aef05e",
   "metadata": {},
   "outputs": [],
   "source": [
    "def topic_detection(sentence):\n",
    "    MachineLearning_words = ('machine learning', 'learning', 'chatbots', 'AI', 'predictions', 'algorithms', 'algorithm', 'predict', 'Reinforcement', 'unsupervised',\n",
    "                             'Supervised', 'Neural', 'Deep learning', 'Fraud detection', 'accuracy', 'visual', 'Translate', 'imaging', 'diagnostics', \n",
    "                             'make decisions', 'science', 'program' )\n",
    "    Data_Technology_words = ('data', 'ethical', 'machines', 'growing', 'technical', 'programmed', 'potential', 'Digital', 'engineering', 'discovery', 'ideas')\n",
    "\n",
    "    ML = any(sentence.count(i) > 0 for i in MachineLearning_words)\n",
    "    DT = any(sentence.count(i) > 0 for i in Data_Technology_words)\n",
    "    topics = []\n",
    "    if ML == True:\n",
    "        topics.append(\"ML\")\n",
    "    if DT == True:\n",
    "        topics.append(\"DT\")\n",
    "    return topics"
   ]
  },
  {
   "cell_type": "markdown",
   "id": "11207e25-c409-4ef2-a088-ca15fad92e2c",
   "metadata": {},
   "source": [
    "This function detects topics in a given sentence based on predefined sets of words related to machine learning and data technology."
   ]
  },
  {
   "cell_type": "markdown",
   "id": "943c92f3-e91c-413c-8ca9-d7a34c3ec7b2",
   "metadata": {},
   "source": [
    "Set the Target URL and Extract Paragraphs and Links"
   ]
  },
  {
   "cell_type": "code",
   "execution_count": 6,
   "id": "77618713-b4c5-4feb-aee7-a12cce243145",
   "metadata": {},
   "outputs": [],
   "source": [
    "url = 'https://mitsloan.mit.edu/ideas-made-to-matter/machine-learning-explained'\n",
    "paragraphs = parse_elements(url, 'p')\n",
    "links = parse_elements(url, 'a')"
   ]
  },
  {
   "cell_type": "markdown",
   "id": "f3575add-5ea3-4d0c-82ef-fd55ace52533",
   "metadata": {},
   "source": [
    "Target URL for analysis, in this case, the MIT Sloan webpage about machine learning and the parse_elements function to extract paragraphs and links from the specified URL."
   ]
  },
  {
   "cell_type": "markdown",
   "id": "90c5023f-2d91-4c92-94c6-1e760fcef5d3",
   "metadata": {},
   "source": [
    "Print Paragraph Type"
   ]
  },
  {
   "cell_type": "code",
   "execution_count": 7,
   "id": "a9ddf280-3e4d-4baa-9d2f-c32bb967a73e",
   "metadata": {},
   "outputs": [
    {
     "data": {
      "text/plain": [
       "requests_html.Element"
      ]
     },
     "execution_count": 7,
     "metadata": {},
     "output_type": "execute_result"
    }
   ],
   "source": [
    "type(paragraphs[0])"
   ]
  },
  {
   "cell_type": "markdown",
   "id": "fc8ec51e-b13e-46d7-858e-6f75eeae3cf5",
   "metadata": {},
   "source": [
    "This line prints the type of the first paragraph, providing information about the data structure."
   ]
  },
  {
   "cell_type": "markdown",
   "id": "07b6189c-2f42-4d62-9045-951582676982",
   "metadata": {},
   "source": [
    "Create a Dictionary for Paragraphs and Topics"
   ]
  },
  {
   "cell_type": "code",
   "execution_count": 9,
   "id": "13306d17-a012-4223-bea3-73b0a6f0555e",
   "metadata": {},
   "outputs": [],
   "source": [
    "#print out a topic analysis after every paragraph prints out\n",
    "#dictionary that has two lists, one for the paragraphs, and one for topics covered by those paragraphs\n",
    "#print(paragraphs)p_dictionary = {}\n",
    "p_dictionary = {}\n",
    "p_list = []\n",
    "topic_list = []\n",
    "for p in range(0, len(paragraphs)):\n",
    "    if len(paragraphs[p].text) > 100:\n",
    "        p_list.append(paragraphs[p].text)\n",
    "        topic_list.append(topic_detection(paragraphs[p].text))\n",
    "p_dictionary['Paragraphs'] = p_list\n",
    "p_dictionary['Topics'] = topic_list"
   ]
  },
  {
   "cell_type": "markdown",
   "id": "c91a1cc0-c60b-46ee-9bdb-fb61f2dd6e18",
   "metadata": {},
   "source": [
    "This block of code creates a dictionary containing lists of paragraphs and their corresponding topics, filtering out short paragraphs."
   ]
  },
  {
   "cell_type": "markdown",
   "id": "c9b1e136-9a47-41c8-811e-5e6fed54d4bd",
   "metadata": {},
   "source": [
    "Display Topics"
   ]
  },
  {
   "cell_type": "code",
   "execution_count": 11,
   "id": "155902d8-1046-4231-bef3-e409c8bde404",
   "metadata": {},
   "outputs": [
    {
     "data": {
      "text/plain": [
       "[['ML'],\n",
       " ['ML', 'DT'],\n",
       " ['ML'],\n",
       " ['DT'],\n",
       " ['ML', 'DT'],\n",
       " ['ML', 'DT'],\n",
       " ['ML', 'DT'],\n",
       " ['ML'],\n",
       " ['ML', 'DT'],\n",
       " ['ML', 'DT'],\n",
       " ['ML', 'DT'],\n",
       " ['ML'],\n",
       " ['ML', 'DT'],\n",
       " ['ML', 'DT'],\n",
       " ['DT'],\n",
       " ['ML', 'DT'],\n",
       " ['ML'],\n",
       " ['ML', 'DT'],\n",
       " ['ML', 'DT'],\n",
       " ['ML'],\n",
       " ['ML'],\n",
       " ['ML', 'DT'],\n",
       " ['ML', 'DT'],\n",
       " ['ML', 'DT'],\n",
       " ['ML'],\n",
       " ['ML', 'DT'],\n",
       " ['ML', 'DT'],\n",
       " ['ML', 'DT'],\n",
       " ['ML', 'DT'],\n",
       " ['ML', 'DT'],\n",
       " ['ML'],\n",
       " ['DT'],\n",
       " ['ML', 'DT'],\n",
       " ['ML'],\n",
       " ['DT'],\n",
       " ['ML', 'DT'],\n",
       " ['ML'],\n",
       " ['ML'],\n",
       " ['ML'],\n",
       " ['ML'],\n",
       " ['ML', 'DT'],\n",
       " ['ML'],\n",
       " ['ML'],\n",
       " ['ML', 'DT'],\n",
       " ['ML'],\n",
       " ['ML'],\n",
       " ['ML'],\n",
       " ['ML'],\n",
       " ['ML'],\n",
       " ['DT'],\n",
       " ['ML', 'DT'],\n",
       " ['ML'],\n",
       " ['ML', 'DT'],\n",
       " ['ML'],\n",
       " ['ML', 'DT'],\n",
       " ['ML'],\n",
       " ['ML'],\n",
       " ['ML'],\n",
       " ['ML'],\n",
       " ['ML', 'DT'],\n",
       " ['DT']]"
      ]
     },
     "execution_count": 11,
     "metadata": {},
     "output_type": "execute_result"
    }
   ],
   "source": [
    "p_dictionary['Topics']"
   ]
  },
  {
   "cell_type": "markdown",
   "id": "871ace61-30d4-480f-9717-4ad1bb43b065",
   "metadata": {},
   "source": [
    "This line prints out the list of topics detected for each paragraph."
   ]
  },
  {
   "cell_type": "markdown",
   "id": "9f4ba772-60c1-4df5-bbd4-54d20c7c07b6",
   "metadata": {},
   "source": [
    "Display Paragraphs"
   ]
  },
  {
   "cell_type": "code",
   "execution_count": 12,
   "id": "8ff41aa2-17c8-4e6b-895c-28dd6df7e961",
   "metadata": {},
   "outputs": [
    {
     "data": {
      "text/plain": [
       "['Through intellectual rigor and experiential learning, this full-time, two-year MBA program develops leaders who make a difference in the world.',\n",
       " 'A 12-month program focused on applying the tools of modern data science, optimization and machine learning to solve real-world business problems.',\n",
       " 'Combine an international MBA with a deep dive into management science. A special opportunity for partner and affiliate schools only.',\n",
       " 'Bring a business perspective to your technical and quantitative expertise with a bachelor’s degree in management, business analytics, or finance.',\n",
       " 'A joint program for mid-career professionals that integrates engineering and systems thinking. Earn your master’s degree in engineering and management.',\n",
       " 'An interdisciplinary program that combines engineering, management, and design, leading to a master’s degree in engineering and management.',\n",
       " 'A full-time MBA program for mid-career leaders eager to dedicate one year of discovery for a lifetime of impact.',\n",
       " 'This 20-month MBA program equips experienced executives to enhance their impact on their organizations and the world.',\n",
       " 'This pervasive and powerful form of artificial intelligence is changing every industry. Here’s what you need to know about the potential and limitations of machine learning and how it’s being used.',\n",
       " 'Machine learning is behind chatbots and predictive text, language translation apps, the shows Netflix suggests to you, and how your social media feeds are presented. It powers autonomous vehicles and machines that can diagnose medical conditions based on images.',\n",
       " 'When companies today deploy artificial intelligence programs, they are most likely using machine learning —\\xa0so much so that the terms are often used interchangeably, and sometimes ambiguously. Machine learning is a subfield of artificial intelligence that gives computers the ability to learn without explicitly being programmed.',\n",
       " \"“In just the last five or 10 years, machine learning has become a critical way, arguably the most important way, most parts of AI are done,” said MIT Sloan professorThomas W. Malone,\\xa0the founding director of the MIT Center for Collective Intelligence. “So that's why some people use the terms AI and machine learning almost as synonymous … most of the current advances in AI have involved machine learning.”\",\n",
       " 'With the growing ubiquity of machine learning, everyone in business is likely to encounter it and will need some working knowledge about this field. A 2020 Deloitte survey found that 67% of companies are using machine learning, and 97% are using or planning to use it in the next year.',\n",
       " 'From manufacturing to retail and banking to bakeries, even legacy companies are using machine learning to unlock new value or boost efficiency. “Machine learning is changing, or will change, every industry, and leaders need to understand the basic principles, the potential, and the limitations,” said MIT computer science professor Aleksander Madry, director of the MIT Center for Deployable Machine Learning.',\n",
       " 'While not everyone needs to know the technical details, they should understand what the technology does and what it can and cannot do, Madry added. “I don’t think anyone can afford not to be aware of what’s happening.”',\n",
       " \"That includes being aware of the social, societal, and ethical implications of machine learning. “It's important to engage and begin to understand these tools, and then think about how you're going to use them well. We have to use these [tools] for the good of everybody,” said Dr. Joan LaRovere, MBA ’16, a pediatric cardiac intensive care physician and co-founder of the nonprofit The Virtue Foundation. “AI has so much potential to do good, and we need to really keep that in our lenses as we're thinking about this. How do we use this to do good and better the world?”\",\n",
       " 'Machine learning is a subfield of artificial intelligence, which is broadly defined as the capability of a machine to imitate intelligent human behavior. Artificial intelligence systems are used to perform complex tasks in a way that is similar to how humans solve problems.',\n",
       " 'The goal of AI is to create computer models that exhibit “intelligent behaviors” like humans, according to Boris Katz, a principal research scientist and head of the InfoLab Group at CSAIL. This means machines that can recognize a visual scene, understand a text written in natural language, or perform an action in the physical world.',\n",
       " 'Machine learning is one way to use AI. It was defined in the 1950s by AI pioneer Arthur Samuel as “the field of study that gives computers the ability to learn without explicitly being programmed.”',\n",
       " 'The definition holds true, according toMikey Shulman,\\xa0a lecturer at MIT Sloan and head of machine learning at\\xa0Kensho, which specializes in artificial intelligence for the finance and U.S. intelligence communities. He compared the traditional way of programming computers, or “software 1.0,” to baking, where a recipe calls for precise amounts of ingredients and tells the baker to mix for an exact amount of time. Traditional programming similarly requires creating detailed instructions for the computer to follow.',\n",
       " 'But in some cases, writing a program for the machine to follow is time-consuming or impossible, such as training a computer to recognize pictures of different people. While humans can do this task easily, it’s difficult to tell a computer how to do it. Machine learning takes the approach of letting computers learn to program themselves through experience.',\n",
       " 'Machine learning starts with data — numbers, photos, or text, like bank transactions, pictures of people or even bakery items, repair records, time series data from sensors, or sales reports. The data is gathered and prepared to be used as training data, or the information the machine learning model will be trained on. The more data, the better the program.',\n",
       " 'From there, programmers choose a machine learning model to use, supply the data, and let the computer model train itself to find patterns or make predictions. Over time the human programmer can also tweak the model, including changing its parameters, to help push it toward more accurate results. (Research scientist Janelle Shane’s website AI Weirdness is an entertaining look at how machine learning algorithms learn and how they can get things wrong —\\xa0as happened when an algorithm tried to generate recipes and created Chocolate Chicken Chicken Cake.)',\n",
       " 'Some data is held out from the training data to be used as evaluation data, which tests how accurate the machine learning model is when it is shown new data. The result is a model that can be used in the future with different sets of data.',\n",
       " 'Successful machine learning algorithms can do different things, Malone wrote in a recent research brief about AI and the future of work that was co-authored by MIT professor and CSAIL director Daniela Rus\\xa0and Robert Laubacher, the associate director of the MIT Center for Collective Intelligence.',\n",
       " '“The function of a machine learning system can be descriptive, meaning that the system uses the data to explain what happened; predictive, meaning the system uses the data to predict what will happen; or prescriptive, meaning the system will use the data to make suggestions about what action to take,” the researchers wrote.',\n",
       " 'Supervised machine learning models are trained with labeled data sets, which allow the models to learn and grow more accurate over time. For example, an algorithm would be trained with pictures of dogs and other things, all labeled by humans, and the machine would learn ways to identify pictures of dogs on its own. Supervised machine learning is the most common type used today.',\n",
       " 'In unsupervised machine learning, a program looks for patterns in unlabeled data. Unsupervised machine learning can find patterns or trends that people aren’t explicitly looking for. For example, an unsupervised machine learning program could look through online sales data and identify different types of clients making purchases.',\n",
       " 'Reinforcement machine learning trains machines through trial and error to take the best action by establishing a reward system. Reinforcement learning can train models to play games or train autonomous vehicles to drive by telling the machine when it made the right decisions, which helps it learn over time what actions it should take.',\n",
       " 'In the Work of the Future brief, Malone noted that machine learning is best suited for situations with lots of data — thousands or millions of examples, like recordings from previous conversations with customers, sensor logs from machines, or ATM transactions. For example, Google Translate was possible because it “trained” on the vast amount of information on the web, in different languages.',\n",
       " 'In some cases, machine learning can gain insight or automate decision-making in cases where humans would not be able to, Madry said. “It may not only be more efficient and less costly to have an algorithm do this, but sometimes humans just literally are not able to do it,” he said.',\n",
       " \"Google search is an example of something that humans can do, but never at the scale and speed at which the Google models are able to show potential answers every time a person types in a query, Malone said. “That’s not an example of computers putting people out of work. It's an example of computers doing things that would not have been remotely economically feasible if they had to be done by humans.”\",\n",
       " 'Natural language processing is a field of machine learning in which machines learn to understand natural language as spoken and written by humans, instead of the data and numbers normally used to program computers. This allows machines to recognize language, understand it, and respond to it, as well as create new text and translate between languages. Natural language processing enables familiar technology like chatbots and digital assistants like Siri or Alexa.',\n",
       " 'Neural networks are a commonly used, specific class of machine learning algorithms. Artificial neural networks are modeled on the human brain, in which thousands or millions of processing nodes are interconnected and organized into layers.',\n",
       " 'In an artificial neural network, cells, or nodes, are connected, with each cell processing inputs and producing an output that is sent to other neurons. Labeled data moves through the nodes, or cells, with each cell performing a different function. In a neural network trained to identify whether a picture contains a cat or not, the different nodes would assess the information and arrive at an output that indicates whether a picture features a cat.',\n",
       " 'Deep learning networks are neural networks with many layers. The layered network can process extensive amounts of data and determine the “weight” of each link in the network —\\xa0for example, in an image recognition system, some layers of the neural network might detect individual features of a face, like eyes, nose, or mouth, while another layer would be able to tell whether those features appear in a way that indicates a face.',\n",
       " 'Like neural networks, deep learning is modeled on the way the human brain works and powers many machine learning uses, like autonomous vehicles, chatbots, and medical diagnostics.',\n",
       " 'Deep learning requires a great deal of computing power, which raises concerns about its economic and environmental sustainability.',\n",
       " 'Machine learning is the core of some companies’ business models, like in the case of Netflix’s suggestions algorithm or Google’s search engine. Other companies are engaging deeply with machine learning, though it’s not their main business proposition.',\n",
       " 'Others are still trying to determine how to use machine learning in a beneficial way. “In my opinion, one of the hardest problems in machine learning is figuring out what problems I can solve with machine learning,” Shulman said. “There’s still a gap in the understanding.”',\n",
       " 'In a 2018 paper, researchers from the MIT Initiative on the Digital Economy outlined a 21-question rubric to determine whether a task is suitable for machine learning. The researchers found that no occupation will be untouched by machine learning, but no occupation is likely to be completely taken over by it. The way to unleash machine learning success, the researchers found, was to reorganize jobs into discrete tasks, some which can be done by machine learning, and others that require a human.',\n",
       " 'Recommendation algorithms. The recommendation engines behind Netflix and YouTube suggestions, what information appears on your Facebook feed, and product recommendations are fueled by machine learning. “[The algorithms] are trying to learn our preferences,” Madry said. “They want to learn, like on Twitter, what tweets we want them to show us, on Facebook, what ads to display, what posts or liked content to share with us.”',\n",
       " 'Image analysis and object detection. Machine learning can analyze images for different information, like learning to identify people and tell them apart —\\xa0though facial recognition algorithms are controversial. Business uses for this vary. Shulman noted that hedge funds famously use machine learning to analyze the number of cars\\xa0in parking lots, which helps them learn how companies are performing and make good bets.',\n",
       " 'Fraud detection. Machines can analyze patterns, like how someone normally spends or where they normally shop, to identify potentially fraudulent credit card transactions, log-in attempts, or spam emails.',\n",
       " 'Automatic helplines or chatbots. Many companies are deploying online chatbots, in which customers or clients don’t speak to humans, but instead interact with a machine. These algorithms use machine learning and natural language processing, with the bots learning from records of past conversations to come up with appropriate responses.',\n",
       " 'Self-driving cars. Much of the technology behind self-driving cars is based on machine learning, deep learning in particular.',\n",
       " 'Medical imaging and diagnostics. Machine learning programs can be trained to examine medical images or other information and look for certain markers of illness, like a tool that can predict cancer risk based on a mammogram.',\n",
       " 'While machine learning is fueling technology that can help workers or open new possibilities for businesses, there are several things business leaders should know about machine learning and its limits.',\n",
       " 'One area of concern is what some experts call explainability, or the ability to be clear about what the machine learning models are doing and how they make decisions. “Understanding why a model does what it does is actually a very difficult question, and you always have to ask yourself that,” Madry said. “You should never treat this as a black box, that just comes as an oracle … yes, you should use it, but then try to get a feeling of what are the rules of thumb that it came up with? And then validate them.”',\n",
       " 'This is especially important because systems can be fooled and undermined, or just fail on certain tasks, even those humans can perform easily. For example, adjusting the metadata in images can confuse computers —\\xa0with a few adjustments, a machine identifies a picture of a dog as an ostrich.',\n",
       " 'Madry pointed out another example in which a machine learning algorithm examining X-rays seemed to outperform physicians. But it turned out the algorithm was correlating results with the machines that took the image, not necessarily the image itself. Tuberculosis is more common in developing countries, which tend to have older machines. The machine learning program learned that if the X-ray was taken on an older machine, the patient was more likely to have tuberculosis. It completed the task, but not in the way the programmers intended or would find useful.',\n",
       " 'The importance of explaining how a model is working —\\xa0and its accuracy —\\xa0can vary depending on how it’s being used, Shulman said. While most well-posed problems can be solved through machine learning, he said, people should assume right now that the models only perform to about 95% of human accuracy. It might be okay with the programmer and the viewer if an algorithm recommending movies is 95% accurate, but that level of accuracy wouldn’t be enough for a self-driving vehicle or a program designed to find serious flaws in machinery.',\n",
       " 'Machines are trained by humans, and human biases can be incorporated into algorithms —\\xa0if biased information, or data that reflects existing inequities, is fed to a machine learning program, the program will learn to replicate it and perpetuate forms of discrimination. Chatbots trained on how people converse on Twitter can pick up on offensive and racist language, for example.',\n",
       " 'In some cases, machine learning models create or exacerbate social problems. For example, Facebook has used machine learning as a tool to show users ads and content that will interest and engage them —\\xa0which has led to models showing people extreme content that leads to polarization and the spread of conspiracy theories when people are shown incendiary, partisan, or inaccurate content.',\n",
       " 'Ways to fight against bias in machine learning including carefully vetting training data\\xa0and putting organizational support behind ethical artificial intelligence efforts, like making sure your organization embraces human-centered AI, the practice of seeking input from people of different backgrounds, experiences, and lifestyles when designing AI systems. Initiatives working on this issue include the Algorithmic Justice League and\\xa0The Moral Machine\\xa0project.',\n",
       " 'Shulman said executives tend to struggle with understanding where machine learning can actually add value to their company. What’s gimmicky for one company is core to another, and businesses should avoid trends and find business use cases that work for them.',\n",
       " 'The way machine learning works for Amazon is probably not going to translate at a car company, Shulman said —\\xa0while Amazon has found success with voice assistants and voice-operated speakers, that doesn’t mean car companies should prioritize adding speakers to cars. More likely, he said, the car company might find a way to use machine learning on the factory line that saves or makes a great deal of money.',\n",
       " \"“The field is moving so quickly, and that's awesome, but it makes it hard for executives to make decisions about it and to decide how much resourcing to pour into it,” Shulman said.\",\n",
       " 'It’s also best to avoid looking at machine learning as a solution in search of a problem, Shulman said. Some companies might end up trying to backport machine learning into a business use. Instead of starting with a focus on technology, businesses should start with a focus on a business problem or customer need that could be met with machine learning.',\n",
       " \"A basic understanding of machine learning is important, LaRovere said, but finding the right machine learning use ultimately rests on people with different expertise working together. “I'm not a data scientist. I'm not doing the actual data engineering work — all the data acquisition, processing, and wrangling to enable machine learning applications\\xa0— but I understand it well enough to be able to work with those teams to get the answers we need and have the impact we need,” she said. “You really have to work in a team.”\",\n",
       " 'The mission of the MIT Sloan School of Management is to develop principled, innovative leaders who improve the world and to generate ideas that advance management practice.']"
      ]
     },
     "execution_count": 12,
     "metadata": {},
     "output_type": "execute_result"
    }
   ],
   "source": [
    "p_dictionary['Paragraphs']"
   ]
  },
  {
   "cell_type": "markdown",
   "id": "60f62db7-6824-4337-92d1-07d13fe900cb",
   "metadata": {},
   "source": [
    "This line prints out the list of paragraphs that were analyzed."
   ]
  },
  {
   "cell_type": "markdown",
   "id": "0217fdc1-5d52-45a7-963a-81b386c416bb",
   "metadata": {},
   "source": [
    "Create DataFrame with Paragraphs and Topics"
   ]
  },
  {
   "cell_type": "code",
   "execution_count": 13,
   "id": "924144f7-8032-4003-b784-3ef6dcfbfac6",
   "metadata": {},
   "outputs": [
    {
     "data": {
      "text/html": [
       "<div>\n",
       "<style scoped>\n",
       "    .dataframe tbody tr th:only-of-type {\n",
       "        vertical-align: middle;\n",
       "    }\n",
       "\n",
       "    .dataframe tbody tr th {\n",
       "        vertical-align: top;\n",
       "    }\n",
       "\n",
       "    .dataframe thead th {\n",
       "        text-align: right;\n",
       "    }\n",
       "</style>\n",
       "<table border=\"1\" class=\"dataframe\">\n",
       "  <thead>\n",
       "    <tr style=\"text-align: right;\">\n",
       "      <th></th>\n",
       "      <th>Paragraphs</th>\n",
       "      <th>Topics</th>\n",
       "    </tr>\n",
       "  </thead>\n",
       "  <tbody>\n",
       "    <tr>\n",
       "      <th>0</th>\n",
       "      <td>Through intellectual rigor and experiential le...</td>\n",
       "      <td>[ML]</td>\n",
       "    </tr>\n",
       "    <tr>\n",
       "      <th>1</th>\n",
       "      <td>A 12-month program focused on applying the too...</td>\n",
       "      <td>[ML, DT]</td>\n",
       "    </tr>\n",
       "    <tr>\n",
       "      <th>2</th>\n",
       "      <td>Combine an international MBA with a deep dive ...</td>\n",
       "      <td>[ML]</td>\n",
       "    </tr>\n",
       "    <tr>\n",
       "      <th>3</th>\n",
       "      <td>Bring a business perspective to your technical...</td>\n",
       "      <td>[DT]</td>\n",
       "    </tr>\n",
       "    <tr>\n",
       "      <th>4</th>\n",
       "      <td>A joint program for mid-career professionals t...</td>\n",
       "      <td>[ML, DT]</td>\n",
       "    </tr>\n",
       "  </tbody>\n",
       "</table>\n",
       "</div>"
      ],
      "text/plain": [
       "                                          Paragraphs    Topics\n",
       "0  Through intellectual rigor and experiential le...      [ML]\n",
       "1  A 12-month program focused on applying the too...  [ML, DT]\n",
       "2  Combine an international MBA with a deep dive ...      [ML]\n",
       "3  Bring a business perspective to your technical...      [DT]\n",
       "4  A joint program for mid-career professionals t...  [ML, DT]"
      ]
     },
     "execution_count": 13,
     "metadata": {},
     "output_type": "execute_result"
    }
   ],
   "source": [
    "medium_df = pd.DataFrame(p_dictionary)\n",
    "medium_df.head()"
   ]
  },
  {
   "cell_type": "markdown",
   "id": "7fc7a01a-b187-4586-ae46-6f4e09ff2b2e",
   "metadata": {},
   "source": [
    "This code creates a Pandas DataFrame from the dictionary, displaying the first few rows of the DataFrame."
   ]
  },
  {
   "cell_type": "markdown",
   "id": "ce2f7d24-8ae7-4c67-8c46-b7e0dc1a2553",
   "metadata": {},
   "source": [
    "Add Character Count Column"
   ]
  },
  {
   "cell_type": "code",
   "execution_count": 15,
   "id": "25a1a343-0bd2-4b86-800d-183b2f9d5c1b",
   "metadata": {},
   "outputs": [
    {
     "data": {
      "text/html": [
       "<div>\n",
       "<style scoped>\n",
       "    .dataframe tbody tr th:only-of-type {\n",
       "        vertical-align: middle;\n",
       "    }\n",
       "\n",
       "    .dataframe tbody tr th {\n",
       "        vertical-align: top;\n",
       "    }\n",
       "\n",
       "    .dataframe thead th {\n",
       "        text-align: right;\n",
       "    }\n",
       "</style>\n",
       "<table border=\"1\" class=\"dataframe\">\n",
       "  <thead>\n",
       "    <tr style=\"text-align: right;\">\n",
       "      <th></th>\n",
       "      <th>Paragraphs</th>\n",
       "      <th>Topics</th>\n",
       "      <th>Character Count</th>\n",
       "    </tr>\n",
       "  </thead>\n",
       "  <tbody>\n",
       "    <tr>\n",
       "      <th>0</th>\n",
       "      <td>Through intellectual rigor and experiential le...</td>\n",
       "      <td>[ML]</td>\n",
       "      <td>143</td>\n",
       "    </tr>\n",
       "    <tr>\n",
       "      <th>1</th>\n",
       "      <td>A 12-month program focused on applying the too...</td>\n",
       "      <td>[ML, DT]</td>\n",
       "      <td>145</td>\n",
       "    </tr>\n",
       "    <tr>\n",
       "      <th>2</th>\n",
       "      <td>Combine an international MBA with a deep dive ...</td>\n",
       "      <td>[ML]</td>\n",
       "      <td>132</td>\n",
       "    </tr>\n",
       "    <tr>\n",
       "      <th>3</th>\n",
       "      <td>Bring a business perspective to your technical...</td>\n",
       "      <td>[DT]</td>\n",
       "      <td>145</td>\n",
       "    </tr>\n",
       "    <tr>\n",
       "      <th>4</th>\n",
       "      <td>A joint program for mid-career professionals t...</td>\n",
       "      <td>[ML, DT]</td>\n",
       "      <td>151</td>\n",
       "    </tr>\n",
       "  </tbody>\n",
       "</table>\n",
       "</div>"
      ],
      "text/plain": [
       "                                          Paragraphs    Topics  \\\n",
       "0  Through intellectual rigor and experiential le...      [ML]   \n",
       "1  A 12-month program focused on applying the too...  [ML, DT]   \n",
       "2  Combine an international MBA with a deep dive ...      [ML]   \n",
       "3  Bring a business perspective to your technical...      [DT]   \n",
       "4  A joint program for mid-career professionals t...  [ML, DT]   \n",
       "\n",
       "   Character Count  \n",
       "0              143  \n",
       "1              145  \n",
       "2              132  \n",
       "3              145  \n",
       "4              151  "
      ]
     },
     "execution_count": 15,
     "metadata": {},
     "output_type": "execute_result"
    }
   ],
   "source": [
    "medium_df['Character Count'] = medium_df['Paragraphs'].apply(lambda x: len(x))\n",
    "medium_df.head()"
   ]
  },
  {
   "cell_type": "markdown",
   "id": "4f8510b4-903f-4118-b520-80f471041dca",
   "metadata": {},
   "source": [
    "This block of code adds a column to the DataFrame representing the character count of each paragraph and displays the first four rows."
   ]
  },
  {
   "cell_type": "markdown",
   "id": "59f11ac9-f5f7-4b8a-92c5-1d7b0d83bd7e",
   "metadata": {},
   "source": [
    "Add Topic Count Column"
   ]
  },
  {
   "cell_type": "code",
   "execution_count": 16,
   "id": "10a87f3c-12a1-4897-999a-790dac55c104",
   "metadata": {},
   "outputs": [
    {
     "data": {
      "text/html": [
       "<div>\n",
       "<style scoped>\n",
       "    .dataframe tbody tr th:only-of-type {\n",
       "        vertical-align: middle;\n",
       "    }\n",
       "\n",
       "    .dataframe tbody tr th {\n",
       "        vertical-align: top;\n",
       "    }\n",
       "\n",
       "    .dataframe thead th {\n",
       "        text-align: right;\n",
       "    }\n",
       "</style>\n",
       "<table border=\"1\" class=\"dataframe\">\n",
       "  <thead>\n",
       "    <tr style=\"text-align: right;\">\n",
       "      <th></th>\n",
       "      <th>Paragraphs</th>\n",
       "      <th>Topics</th>\n",
       "      <th>Character Count</th>\n",
       "      <th>Topic Count</th>\n",
       "    </tr>\n",
       "  </thead>\n",
       "  <tbody>\n",
       "    <tr>\n",
       "      <th>0</th>\n",
       "      <td>Through intellectual rigor and experiential le...</td>\n",
       "      <td>[ML]</td>\n",
       "      <td>143</td>\n",
       "      <td>1</td>\n",
       "    </tr>\n",
       "    <tr>\n",
       "      <th>1</th>\n",
       "      <td>A 12-month program focused on applying the too...</td>\n",
       "      <td>[ML, DT]</td>\n",
       "      <td>145</td>\n",
       "      <td>2</td>\n",
       "    </tr>\n",
       "    <tr>\n",
       "      <th>2</th>\n",
       "      <td>Combine an international MBA with a deep dive ...</td>\n",
       "      <td>[ML]</td>\n",
       "      <td>132</td>\n",
       "      <td>1</td>\n",
       "    </tr>\n",
       "    <tr>\n",
       "      <th>3</th>\n",
       "      <td>Bring a business perspective to your technical...</td>\n",
       "      <td>[DT]</td>\n",
       "      <td>145</td>\n",
       "      <td>1</td>\n",
       "    </tr>\n",
       "    <tr>\n",
       "      <th>4</th>\n",
       "      <td>A joint program for mid-career professionals t...</td>\n",
       "      <td>[ML, DT]</td>\n",
       "      <td>151</td>\n",
       "      <td>2</td>\n",
       "    </tr>\n",
       "  </tbody>\n",
       "</table>\n",
       "</div>"
      ],
      "text/plain": [
       "                                          Paragraphs    Topics  \\\n",
       "0  Through intellectual rigor and experiential le...      [ML]   \n",
       "1  A 12-month program focused on applying the too...  [ML, DT]   \n",
       "2  Combine an international MBA with a deep dive ...      [ML]   \n",
       "3  Bring a business perspective to your technical...      [DT]   \n",
       "4  A joint program for mid-career professionals t...  [ML, DT]   \n",
       "\n",
       "   Character Count  Topic Count  \n",
       "0              143            1  \n",
       "1              145            2  \n",
       "2              132            1  \n",
       "3              145            1  \n",
       "4              151            2  "
      ]
     },
     "execution_count": 16,
     "metadata": {},
     "output_type": "execute_result"
    }
   ],
   "source": [
    "medium_df['Topic Count'] = medium_df['Topics'].apply(len)\n",
    "medium_df.head()"
   ]
  },
  {
   "cell_type": "markdown",
   "id": "429a9558-e78d-4061-8c05-4a8d5e9a2abc",
   "metadata": {},
   "source": [
    "This block of code adds a column to the data frame representing the count of topics for each paragraph and displays the updated data frame."
   ]
  },
  {
   "cell_type": "markdown",
   "id": "86fc5601-8a4e-4b4c-a642-8a78707b658a",
   "metadata": {},
   "source": [
    "Add Sentiment Analysis Column"
   ]
  },
  {
   "cell_type": "code",
   "execution_count": 17,
   "id": "a78db452-4745-4253-a797-af001c05ab87",
   "metadata": {},
   "outputs": [
    {
     "data": {
      "text/html": [
       "<div>\n",
       "<style scoped>\n",
       "    .dataframe tbody tr th:only-of-type {\n",
       "        vertical-align: middle;\n",
       "    }\n",
       "\n",
       "    .dataframe tbody tr th {\n",
       "        vertical-align: top;\n",
       "    }\n",
       "\n",
       "    .dataframe thead th {\n",
       "        text-align: right;\n",
       "    }\n",
       "</style>\n",
       "<table border=\"1\" class=\"dataframe\">\n",
       "  <thead>\n",
       "    <tr style=\"text-align: right;\">\n",
       "      <th></th>\n",
       "      <th>Paragraphs</th>\n",
       "      <th>Topics</th>\n",
       "      <th>Character Count</th>\n",
       "      <th>Topic Count</th>\n",
       "      <th>Sentiment</th>\n",
       "    </tr>\n",
       "  </thead>\n",
       "  <tbody>\n",
       "    <tr>\n",
       "      <th>0</th>\n",
       "      <td>Through intellectual rigor and experiential le...</td>\n",
       "      <td>[ML]</td>\n",
       "      <td>143</td>\n",
       "      <td>1</td>\n",
       "      <td>neutral</td>\n",
       "    </tr>\n",
       "    <tr>\n",
       "      <th>1</th>\n",
       "      <td>A 12-month program focused on applying the too...</td>\n",
       "      <td>[ML, DT]</td>\n",
       "      <td>145</td>\n",
       "      <td>2</td>\n",
       "      <td>neutral</td>\n",
       "    </tr>\n",
       "    <tr>\n",
       "      <th>2</th>\n",
       "      <td>Combine an international MBA with a deep dive ...</td>\n",
       "      <td>[ML]</td>\n",
       "      <td>132</td>\n",
       "      <td>1</td>\n",
       "      <td>neutral</td>\n",
       "    </tr>\n",
       "    <tr>\n",
       "      <th>3</th>\n",
       "      <td>Bring a business perspective to your technical...</td>\n",
       "      <td>[DT]</td>\n",
       "      <td>145</td>\n",
       "      <td>1</td>\n",
       "      <td>neutral</td>\n",
       "    </tr>\n",
       "    <tr>\n",
       "      <th>4</th>\n",
       "      <td>A joint program for mid-career professionals t...</td>\n",
       "      <td>[ML, DT]</td>\n",
       "      <td>151</td>\n",
       "      <td>2</td>\n",
       "      <td>neutral</td>\n",
       "    </tr>\n",
       "  </tbody>\n",
       "</table>\n",
       "</div>"
      ],
      "text/plain": [
       "                                          Paragraphs    Topics  \\\n",
       "0  Through intellectual rigor and experiential le...      [ML]   \n",
       "1  A 12-month program focused on applying the too...  [ML, DT]   \n",
       "2  Combine an international MBA with a deep dive ...      [ML]   \n",
       "3  Bring a business perspective to your technical...      [DT]   \n",
       "4  A joint program for mid-career professionals t...  [ML, DT]   \n",
       "\n",
       "   Character Count  Topic Count Sentiment  \n",
       "0              143            1   neutral  \n",
       "1              145            2   neutral  \n",
       "2              132            1   neutral  \n",
       "3              145            1   neutral  \n",
       "4              151            2   neutral  "
      ]
     },
     "execution_count": 17,
     "metadata": {},
     "output_type": "execute_result"
    }
   ],
   "source": [
    "medium_df['Sentiment'] = medium_df['Paragraphs'].apply(sentiment_detection)\r\n",
    "medium_df.head()"
   ]
  },
  {
   "cell_type": "markdown",
   "id": "cc8312b0-2f11-4110-95cd-06b869af1d45",
   "metadata": {},
   "source": [
    "This block of code adds a column to the data frame representing the sentiment analysis of each paragraph and displays the updated data frame."
   ]
  },
  {
   "cell_type": "markdown",
   "id": "fc577a61-29c4-4d12-9f16-b1e38cc57aab",
   "metadata": {},
   "source": [
    "Visualize Sentiment Distribution"
   ]
  },
  {
   "cell_type": "code",
   "execution_count": 18,
   "id": "8eff23b7-4a68-4314-8fa5-316c6357a116",
   "metadata": {},
   "outputs": [
    {
     "name": "stdout",
     "output_type": "stream",
     "text": [
      "Sentiment\n",
      "neutral     42\n",
      "positive    12\n",
      "negative     5\n",
      "mixed        2\n",
      "Name: count, dtype: int64\n",
      "[42, 12, 5, 2]\n",
      "['neutral', 'positive', 'negative', 'mixed']\n"
     ]
    },
    {
     "data": {
      "image/png": "[encoded data removed]",
      "text/plain": [
       "<Figure size 640x480 with 1 Axes>"
      ]
     },
     "metadata": {},
     "output_type": "display_data"
    }
   ],
   "source": [
    "category_amount = medium_df['Sentiment'].value_counts()\n",
    "print(category_amount)\n",
    "print(list(category_amount))\n",
    "print(list(category_amount.keys()))\n",
    "\n",
    "import matplotlib.pyplot as plt\n",
    "plt.bar(list(category_amount.keys()), list(category_amount))\n",
    "plt.xlabel('Sentiment')\n",
    "plt.ylabel('Total Count')\n",
    "plt.title('Total count of sentiment')\n",
    "plt.xticks(rotation=45)\n",
    "plt.show()"
   ]
  },
  {
   "cell_type": "markdown",
   "id": "17bfe338-217d-4d85-b3e6-f6546ba4d45b",
   "metadata": {},
   "source": [
    "This step visualizes the distribution of sentiment categories using a bar chart and prints out the total count of each sentiment category. The chart is customized with labels and rotated x-axis ticks for better readability."
   ]
  },
  {
   "cell_type": "markdown",
   "id": "10e55e27-ebfc-4c07-8dd4-7242ab2368d8",
   "metadata": {},
   "source": [
    "Installing seaborn for better viewing"
   ]
  },
  {
   "cell_type": "code",
   "execution_count": 20,
   "id": "4132906d-2faa-4e1a-b3cc-47d9a07891a7",
   "metadata": {},
   "outputs": [
    {
     "name": "stdout",
     "output_type": "stream",
     "text": [
      "Collecting seaborn\n",
      "  Downloading seaborn-0.13.0-py3-none-any.whl.metadata (5.3 kB)\n",
      "Requirement already satisfied: numpy!=1.24.0,>=1.20 in c:\\users\\srira\\appdata\\local\\programs\\python\\python312\\lib\\site-packages (from seaborn) (1.26.2)\n",
      "Requirement already satisfied: pandas>=1.2 in c:\\users\\srira\\appdata\\local\\programs\\python\\python312\\lib\\site-packages (from seaborn) (2.1.3)\n",
      "Requirement already satisfied: matplotlib!=3.6.1,>=3.3 in c:\\users\\srira\\appdata\\local\\programs\\python\\python312\\lib\\site-packages (from seaborn) (3.8.2)\n",
      "Requirement already satisfied: contourpy>=1.0.1 in c:\\users\\srira\\appdata\\local\\programs\\python\\python312\\lib\\site-packages (from matplotlib!=3.6.1,>=3.3->seaborn) (1.2.0)\n",
      "Requirement already satisfied: cycler>=0.10 in c:\\users\\srira\\appdata\\local\\programs\\python\\python312\\lib\\site-packages (from matplotlib!=3.6.1,>=3.3->seaborn) (0.12.1)\n",
      "Requirement already satisfied: fonttools>=4.22.0 in c:\\users\\srira\\appdata\\local\\programs\\python\\python312\\lib\\site-packages (from matplotlib!=3.6.1,>=3.3->seaborn) (4.46.0)\n",
      "Requirement already satisfied: kiwisolver>=1.3.1 in c:\\users\\srira\\appdata\\local\\programs\\python\\python312\\lib\\site-packages (from matplotlib!=3.6.1,>=3.3->seaborn) (1.4.5)\n",
      "Requirement already satisfied: packaging>=20.0 in c:\\users\\srira\\appdata\\local\\programs\\python\\python312\\lib\\site-packages (from matplotlib!=3.6.1,>=3.3->seaborn) (23.2)\n",
      "Requirement already satisfied: pillow>=8 in c:\\users\\srira\\appdata\\local\\programs\\python\\python312\\lib\\site-packages (from matplotlib!=3.6.1,>=3.3->seaborn) (10.1.0)\n",
      "Requirement already satisfied: pyparsing>=2.3.1 in c:\\users\\srira\\appdata\\local\\programs\\python\\python312\\lib\\site-packages (from matplotlib!=3.6.1,>=3.3->seaborn) (3.1.1)\n",
      "Requirement already satisfied: python-dateutil>=2.7 in c:\\users\\srira\\appdata\\local\\programs\\python\\python312\\lib\\site-packages (from matplotlib!=3.6.1,>=3.3->seaborn) (2.8.2)\n",
      "Requirement already satisfied: pytz>=2020.1 in c:\\users\\srira\\appdata\\local\\programs\\python\\python312\\lib\\site-packages (from pandas>=1.2->seaborn) (2023.3.post1)\n",
      "Requirement already satisfied: tzdata>=2022.1 in c:\\users\\srira\\appdata\\local\\programs\\python\\python312\\lib\\site-packages (from pandas>=1.2->seaborn) (2023.3)\n",
      "Requirement already satisfied: six>=1.5 in c:\\users\\srira\\appdata\\local\\programs\\python\\python312\\lib\\site-packages (from python-dateutil>=2.7->matplotlib!=3.6.1,>=3.3->seaborn) (1.16.0)\n",
      "Downloading seaborn-0.13.0-py3-none-any.whl (294 kB)\n",
      "   ---------------------------------------- 0.0/294.6 kB ? eta -:--:--\n",
      "   - -------------------------------------- 10.2/294.6 kB ? eta -:--:--\n",
      "   ---- ---------------------------------- 30.7/294.6 kB 445.2 kB/s eta 0:00:01\n",
      "   --------- ----------------------------- 71.7/294.6 kB 563.7 kB/s eta 0:00:01\n",
      "   ----------------------------- ---------- 215.0/294.6 kB 1.2 MB/s eta 0:00:01\n",
      "   ---------------------------------------- 294.6/294.6 kB 1.4 MB/s eta 0:00:00\n",
      "Installing collected packages: seaborn\n",
      "Successfully installed seaborn-0.13.0\n",
      "Note: you may need to restart the kernel to use updated packages.\n"
     ]
    }
   ],
   "source": [
    "pip install seaborn"
   ]
  },
  {
   "cell_type": "markdown",
   "id": "25fa63c8-517a-4001-9ee7-32a027bad93a",
   "metadata": {},
   "source": [
    "Sentiment Distribution Visualization"
   ]
  },
  {
   "cell_type": "code",
   "execution_count": 23,
   "id": "d9a028ce-c6e8-41fb-b4a2-1e38b97fb9b2",
   "metadata": {},
   "outputs": [
    {
     "data": {
      "image/png": "[encoded data removed]",
      "text/plain": [
       "<Figure size 1000x600 with 1 Axes>"
      ]
     },
     "metadata": {},
     "output_type": "display_data"
    }
   ],
   "source": [
    "import matplotlib.pyplot as plt\n",
    "import seaborn as sns\n",
    "\n",
    "# Set the style of the visualization\n",
    "sns.set(style=\"whitegrid\")\n",
    "\n",
    "# Get sentiment counts\n",
    "category_amount = medium_df['Sentiment'].value_counts()\n",
    "\n",
    "# Create a bar plot with custom colors\n",
    "plt.figure(figsize=(10, 6))\n",
    "sns.barplot(x=category_amount.index, y=category_amount.values, hue=category_amount.index, palette=\"viridis\", legend=False)\n",
    "\n",
    "# Customize the plot\n",
    "plt.xlabel('Sentiment', fontsize=14)\n",
    "plt.ylabel('Total Count', fontsize=14)\n",
    "plt.title('Sentiment Distribution', fontsize=16)\n",
    "plt.xticks(rotation=45, ha='right', fontsize=12)\n",
    "plt.yticks(fontsize=12)\n",
    "\n",
    "# Display the count above each bar\n",
    "for index, value in enumerate(category_amount):\n",
    "    plt.text(index, value + 0.1, str(value), ha='center', va='bottom', fontsize=10, color='black')\n",
    "\n",
    "# Show the plot\n",
    "plt.show()"
   ]
  },
  {
   "cell_type": "markdown",
   "id": "286b8fa5-7af7-4339-94e3-b344ee6a6284",
   "metadata": {},
   "source": [
    "This script combines Seaborn and Matplotlib to create an informative and visually appealing plot representing the distribution of sentiment categories in the provided DataFrame (medium_df). It's designed for easy customization and interpretation of sentiment data."
   ]
  },
  {
   "cell_type": "markdown",
   "id": "db711ef0-66f3-4225-9523-d5c56bb95ca5",
   "metadata": {},
   "source": [
    "At the end of its adventure, the computer script succeeded! The colorful picture it made helped us understand how the MIT Sloan webpage felt. It was like the script took us on a journey, revealing the story hidden in the words.\r\n",
    "\r\n",
    "And then, the script finished its work, leaving behind a tale of exploring and finding cool things on the internet. It showed us the magic of computers and how they can help us learn interesting stuff. The end"
   ]
  }
 ],
 "metadata": {
  "kernelspec": {
   "display_name": "Python 3 (ipykernel)",
   "language": "python",
   "name": "python3"
  },
  "language_info": {
   "codemirror_mode": {
    "name": "ipython",
    "version": 3
   },
   "file_extension": ".py",
   "mimetype": "text/x-python",
   "name": "python",
   "nbconvert_exporter": "python",
   "pygments_lexer": "ipython3",
   "version": "3.12.0"
  }
 },
 "nbformat": 4,
 "nbformat_minor": 5
}
